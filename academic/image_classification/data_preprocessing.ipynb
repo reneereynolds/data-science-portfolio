{
 "cells": [
  {
   "cell_type": "markdown",
   "metadata": {},
   "source": [
    "## Data preprocessing and train/test splitting:"
   ]
  },
  {
   "cell_type": "code",
   "execution_count": 1,
   "metadata": {},
   "outputs": [],
   "source": [
    "# import libraries\n",
    "import os\n",
    "from PIL import Image\n",
    "import numpy as np\n",
    "import shutil"
   ]
  },
  {
   "cell_type": "markdown",
   "metadata": {},
   "source": [
    "First, we resize all images to 64x64x4 RGB images and save them in a new folder."
   ]
  },
  {
   "cell_type": "code",
   "execution_count": 2,
   "metadata": {},
   "outputs": [],
   "source": [
    "# specify directories of raw data and new directory for resized data\n",
    "raw_data_dir = 'raw_data/101_ObjectCategories/'\n",
    "resized_dir = 'data/101_ObjectCategories/'"
   ]
  },
  {
   "cell_type": "code",
   "execution_count": 3,
   "metadata": {},
   "outputs": [],
   "source": [
    "# function to resize an image\n",
    "def resize_images(input_dir, output_dir, new_size=64):\n",
    "    for img_file in os.listdir(input_dir):\n",
    "        path = os.path.join(input_dir, img_file)\n",
    "        if os.path.isfile(path):\n",
    "            img = Image.open(path)\n",
    "            img_resized = img.resize((new_size, new_size), \n",
    "                                     Image.ANTIALIAS)\n",
    "            new_path = os.path.join(output_dir, img_file)\n",
    "            if not os.path.exists(output_dir):\n",
    "                os.makedirs(output_dir)\n",
    "            with open(new_path, \"w\"):\n",
    "                img_resized.save(new_path, 'JPEG')"
   ]
  },
  {
   "cell_type": "code",
   "execution_count": 4,
   "metadata": {},
   "outputs": [],
   "source": [
    "# resize all images to 64x64x3 RGB images\n",
    "category_dirs = os.listdir(raw_data_dir)  # get folder names of each object category\n",
    "\n",
    "# if images have not been resized, then resize them\n",
    "if not os.path.exists(resized_dir):\n",
    "    for cat in category_dirs:\n",
    "        if cat != '.DS_Store':\n",
    "            resize_images(os.path.join(raw_data_dir, cat), \n",
    "                          os.path.join(resized_dir, cat))"
   ]
  },
  {
   "cell_type": "markdown",
   "metadata": {},
   "source": [
    "Next, we split the data into training (90%) and test sets (10%)."
   ]
  },
  {
   "cell_type": "code",
   "execution_count": 5,
   "metadata": {},
   "outputs": [],
   "source": [
    "# specify new directories for train/test data\n",
    "train_dir = 'data/train/'\n",
    "test_dir = 'data/test/'"
   ]
  },
  {
   "cell_type": "code",
   "execution_count": 6,
   "metadata": {},
   "outputs": [],
   "source": [
    "def move_files(files, origin_dir, dest_dir):\n",
    "    for img_file in files:\n",
    "        if not os.path.exists(dest_dir):\n",
    "            os.makedirs(dest_dir)\n",
    "        shutil.copy(os.path.join(origin_dir, img_file), \n",
    "                    os.path.join(dest_dir, img_file))"
   ]
  },
  {
   "cell_type": "code",
   "execution_count": 7,
   "metadata": {},
   "outputs": [],
   "source": [
    "# split the data\n",
    "categories = os.listdir(resized_dir)\n",
    "\n",
    "for cat in categories:\n",
    "    image_files = os.listdir(os.path.join(resized_dir, cat))\n",
    "    train_indices = np.random.choice([0, 1], size=len(image_files), p=[.1, .9])\n",
    "    train_files = np.compress(train_indices, image_files)\n",
    "    test_files = np.compress(1 - train_indices, image_files)\n",
    "    \n",
    "    move_files(train_files, \n",
    "               os.path.join(resized_dir, cat),\n",
    "               train_dir + cat)\n",
    "    move_files(test_files,\n",
    "               os.path.join(resized_dir, cat),\n",
    "               test_dir + cat)"
   ]
  }
 ],
 "metadata": {
  "kernelspec": {
   "display_name": "Python 3",
   "language": "python",
   "name": "python3"
  },
  "language_info": {
   "codemirror_mode": {
    "name": "ipython",
    "version": 3
   },
   "file_extension": ".py",
   "mimetype": "text/x-python",
   "name": "python",
   "nbconvert_exporter": "python",
   "pygments_lexer": "ipython3",
   "version": "3.7.4"
  }
 },
 "nbformat": 4,
 "nbformat_minor": 2
}
